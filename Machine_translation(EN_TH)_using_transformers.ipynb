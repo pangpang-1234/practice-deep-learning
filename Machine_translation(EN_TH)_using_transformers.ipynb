{
  "nbformat": 4,
  "nbformat_minor": 0,
  "metadata": {
    "colab": {
      "name": "Machine translation(EN-TH) using transformers.ipynb",
      "provenance": [],
      "machine_shape": "hm"
    },
    "kernelspec": {
      "name": "python3",
      "display_name": "Python 3"
    },
    "language_info": {
      "name": "python"
    },
    "accelerator": "GPU",
    "widgets": {
      "application/vnd.jupyter.widget-state+json": {
        "faa44cca31b94c8c897ea0a88d34b072": {
          "model_module": "@jupyter-widgets/controls",
          "model_name": "HBoxModel",
          "model_module_version": "1.5.0",
          "state": {
            "_view_name": "HBoxView",
            "_dom_classes": [],
            "_model_name": "HBoxModel",
            "_view_module": "@jupyter-widgets/controls",
            "_model_module_version": "1.5.0",
            "_view_count": null,
            "_view_module_version": "1.5.0",
            "box_style": "",
            "layout": "IPY_MODEL_7b3c78bcf620417eaacffa08c28bba01",
            "_model_module": "@jupyter-widgets/controls",
            "children": [
              "IPY_MODEL_102741e134f640b4b3703409dadd901d",
              "IPY_MODEL_888b760e2a044df98ed02d2c7208ad61",
              "IPY_MODEL_607c343f30bf4c4dbe2d22e45ae0cfee"
            ]
          }
        },
        "7b3c78bcf620417eaacffa08c28bba01": {
          "model_module": "@jupyter-widgets/base",
          "model_name": "LayoutModel",
          "model_module_version": "1.2.0",
          "state": {
            "_view_name": "LayoutView",
            "grid_template_rows": null,
            "right": null,
            "justify_content": null,
            "_view_module": "@jupyter-widgets/base",
            "overflow": null,
            "_model_module_version": "1.2.0",
            "_view_count": null,
            "flex_flow": null,
            "width": null,
            "min_width": null,
            "border": null,
            "align_items": null,
            "bottom": null,
            "_model_module": "@jupyter-widgets/base",
            "top": null,
            "grid_column": null,
            "overflow_y": null,
            "overflow_x": null,
            "grid_auto_flow": null,
            "grid_area": null,
            "grid_template_columns": null,
            "flex": null,
            "_model_name": "LayoutModel",
            "justify_items": null,
            "grid_row": null,
            "max_height": null,
            "align_content": null,
            "visibility": null,
            "align_self": null,
            "height": null,
            "min_height": null,
            "padding": null,
            "grid_auto_rows": null,
            "grid_gap": null,
            "max_width": null,
            "order": null,
            "_view_module_version": "1.2.0",
            "grid_template_areas": null,
            "object_position": null,
            "object_fit": null,
            "grid_auto_columns": null,
            "margin": null,
            "display": null,
            "left": null
          }
        },
        "102741e134f640b4b3703409dadd901d": {
          "model_module": "@jupyter-widgets/controls",
          "model_name": "HTMLModel",
          "model_module_version": "1.5.0",
          "state": {
            "_view_name": "HTMLView",
            "style": "IPY_MODEL_b4172a8ff94d45fda1ecf52b6314c580",
            "_dom_classes": [],
            "description": "",
            "_model_name": "HTMLModel",
            "placeholder": "​",
            "_view_module": "@jupyter-widgets/controls",
            "_model_module_version": "1.5.0",
            "value": "100%",
            "_view_count": null,
            "_view_module_version": "1.5.0",
            "description_tooltip": null,
            "_model_module": "@jupyter-widgets/controls",
            "layout": "IPY_MODEL_48a6ab3dbd194722abc20be3bc4b2210"
          }
        },
        "888b760e2a044df98ed02d2c7208ad61": {
          "model_module": "@jupyter-widgets/controls",
          "model_name": "FloatProgressModel",
          "model_module_version": "1.5.0",
          "state": {
            "_view_name": "ProgressView",
            "style": "IPY_MODEL_fcad1eb5df5b4063875a5298c7325cc9",
            "_dom_classes": [],
            "description": "",
            "_model_name": "FloatProgressModel",
            "bar_style": "success",
            "max": 104,
            "_view_module": "@jupyter-widgets/controls",
            "_model_module_version": "1.5.0",
            "value": 104,
            "_view_count": null,
            "_view_module_version": "1.5.0",
            "orientation": "horizontal",
            "min": 0,
            "description_tooltip": null,
            "_model_module": "@jupyter-widgets/controls",
            "layout": "IPY_MODEL_13ac9a0b6c454d17a28b4781b9368aaf"
          }
        },
        "607c343f30bf4c4dbe2d22e45ae0cfee": {
          "model_module": "@jupyter-widgets/controls",
          "model_name": "HTMLModel",
          "model_module_version": "1.5.0",
          "state": {
            "_view_name": "HTMLView",
            "style": "IPY_MODEL_8497ecac44c248f5b8cce3fb89b8b665",
            "_dom_classes": [],
            "description": "",
            "_model_name": "HTMLModel",
            "placeholder": "​",
            "_view_module": "@jupyter-widgets/controls",
            "_model_module_version": "1.5.0",
            "value": " 104/104 [00:23&lt;00:00,  4.34ba/s]",
            "_view_count": null,
            "_view_module_version": "1.5.0",
            "description_tooltip": null,
            "_model_module": "@jupyter-widgets/controls",
            "layout": "IPY_MODEL_22715045e1de4f1cadf729dc0c8d2718"
          }
        },
        "b4172a8ff94d45fda1ecf52b6314c580": {
          "model_module": "@jupyter-widgets/controls",
          "model_name": "DescriptionStyleModel",
          "model_module_version": "1.5.0",
          "state": {
            "_view_name": "StyleView",
            "_model_name": "DescriptionStyleModel",
            "description_width": "",
            "_view_module": "@jupyter-widgets/base",
            "_model_module_version": "1.5.0",
            "_view_count": null,
            "_view_module_version": "1.2.0",
            "_model_module": "@jupyter-widgets/controls"
          }
        },
        "48a6ab3dbd194722abc20be3bc4b2210": {
          "model_module": "@jupyter-widgets/base",
          "model_name": "LayoutModel",
          "model_module_version": "1.2.0",
          "state": {
            "_view_name": "LayoutView",
            "grid_template_rows": null,
            "right": null,
            "justify_content": null,
            "_view_module": "@jupyter-widgets/base",
            "overflow": null,
            "_model_module_version": "1.2.0",
            "_view_count": null,
            "flex_flow": null,
            "width": null,
            "min_width": null,
            "border": null,
            "align_items": null,
            "bottom": null,
            "_model_module": "@jupyter-widgets/base",
            "top": null,
            "grid_column": null,
            "overflow_y": null,
            "overflow_x": null,
            "grid_auto_flow": null,
            "grid_area": null,
            "grid_template_columns": null,
            "flex": null,
            "_model_name": "LayoutModel",
            "justify_items": null,
            "grid_row": null,
            "max_height": null,
            "align_content": null,
            "visibility": null,
            "align_self": null,
            "height": null,
            "min_height": null,
            "padding": null,
            "grid_auto_rows": null,
            "grid_gap": null,
            "max_width": null,
            "order": null,
            "_view_module_version": "1.2.0",
            "grid_template_areas": null,
            "object_position": null,
            "object_fit": null,
            "grid_auto_columns": null,
            "margin": null,
            "display": null,
            "left": null
          }
        },
        "fcad1eb5df5b4063875a5298c7325cc9": {
          "model_module": "@jupyter-widgets/controls",
          "model_name": "ProgressStyleModel",
          "model_module_version": "1.5.0",
          "state": {
            "_view_name": "StyleView",
            "_model_name": "ProgressStyleModel",
            "description_width": "",
            "_view_module": "@jupyter-widgets/base",
            "_model_module_version": "1.5.0",
            "_view_count": null,
            "_view_module_version": "1.2.0",
            "bar_color": null,
            "_model_module": "@jupyter-widgets/controls"
          }
        },
        "13ac9a0b6c454d17a28b4781b9368aaf": {
          "model_module": "@jupyter-widgets/base",
          "model_name": "LayoutModel",
          "model_module_version": "1.2.0",
          "state": {
            "_view_name": "LayoutView",
            "grid_template_rows": null,
            "right": null,
            "justify_content": null,
            "_view_module": "@jupyter-widgets/base",
            "overflow": null,
            "_model_module_version": "1.2.0",
            "_view_count": null,
            "flex_flow": null,
            "width": null,
            "min_width": null,
            "border": null,
            "align_items": null,
            "bottom": null,
            "_model_module": "@jupyter-widgets/base",
            "top": null,
            "grid_column": null,
            "overflow_y": null,
            "overflow_x": null,
            "grid_auto_flow": null,
            "grid_area": null,
            "grid_template_columns": null,
            "flex": null,
            "_model_name": "LayoutModel",
            "justify_items": null,
            "grid_row": null,
            "max_height": null,
            "align_content": null,
            "visibility": null,
            "align_self": null,
            "height": null,
            "min_height": null,
            "padding": null,
            "grid_auto_rows": null,
            "grid_gap": null,
            "max_width": null,
            "order": null,
            "_view_module_version": "1.2.0",
            "grid_template_areas": null,
            "object_position": null,
            "object_fit": null,
            "grid_auto_columns": null,
            "margin": null,
            "display": null,
            "left": null
          }
        },
        "8497ecac44c248f5b8cce3fb89b8b665": {
          "model_module": "@jupyter-widgets/controls",
          "model_name": "DescriptionStyleModel",
          "model_module_version": "1.5.0",
          "state": {
            "_view_name": "StyleView",
            "_model_name": "DescriptionStyleModel",
            "description_width": "",
            "_view_module": "@jupyter-widgets/base",
            "_model_module_version": "1.5.0",
            "_view_count": null,
            "_view_module_version": "1.2.0",
            "_model_module": "@jupyter-widgets/controls"
          }
        },
        "22715045e1de4f1cadf729dc0c8d2718": {
          "model_module": "@jupyter-widgets/base",
          "model_name": "LayoutModel",
          "model_module_version": "1.2.0",
          "state": {
            "_view_name": "LayoutView",
            "grid_template_rows": null,
            "right": null,
            "justify_content": null,
            "_view_module": "@jupyter-widgets/base",
            "overflow": null,
            "_model_module_version": "1.2.0",
            "_view_count": null,
            "flex_flow": null,
            "width": null,
            "min_width": null,
            "border": null,
            "align_items": null,
            "bottom": null,
            "_model_module": "@jupyter-widgets/base",
            "top": null,
            "grid_column": null,
            "overflow_y": null,
            "overflow_x": null,
            "grid_auto_flow": null,
            "grid_area": null,
            "grid_template_columns": null,
            "flex": null,
            "_model_name": "LayoutModel",
            "justify_items": null,
            "grid_row": null,
            "max_height": null,
            "align_content": null,
            "visibility": null,
            "align_self": null,
            "height": null,
            "min_height": null,
            "padding": null,
            "grid_auto_rows": null,
            "grid_gap": null,
            "max_width": null,
            "order": null,
            "_view_module_version": "1.2.0",
            "grid_template_areas": null,
            "object_position": null,
            "object_fit": null,
            "grid_auto_columns": null,
            "margin": null,
            "display": null,
            "left": null
          }
        },
        "ed05d6b07f594a43b117d6ad7f57bcad": {
          "model_module": "@jupyter-widgets/controls",
          "model_name": "HBoxModel",
          "model_module_version": "1.5.0",
          "state": {
            "_view_name": "HBoxView",
            "_dom_classes": [],
            "_model_name": "HBoxModel",
            "_view_module": "@jupyter-widgets/controls",
            "_model_module_version": "1.5.0",
            "_view_count": null,
            "_view_module_version": "1.5.0",
            "box_style": "",
            "layout": "IPY_MODEL_74571ab8949e4479a321794b2c8d67ae",
            "_model_module": "@jupyter-widgets/controls",
            "children": [
              "IPY_MODEL_9cb076e8cdb343ce814fa8903756a9ed",
              "IPY_MODEL_76001b432b004a4a889c719077c20b80",
              "IPY_MODEL_669d7ef5610a4ab1abb36058c7606a5d"
            ]
          }
        },
        "74571ab8949e4479a321794b2c8d67ae": {
          "model_module": "@jupyter-widgets/base",
          "model_name": "LayoutModel",
          "model_module_version": "1.2.0",
          "state": {
            "_view_name": "LayoutView",
            "grid_template_rows": null,
            "right": null,
            "justify_content": null,
            "_view_module": "@jupyter-widgets/base",
            "overflow": null,
            "_model_module_version": "1.2.0",
            "_view_count": null,
            "flex_flow": null,
            "width": null,
            "min_width": null,
            "border": null,
            "align_items": null,
            "bottom": null,
            "_model_module": "@jupyter-widgets/base",
            "top": null,
            "grid_column": null,
            "overflow_y": null,
            "overflow_x": null,
            "grid_auto_flow": null,
            "grid_area": null,
            "grid_template_columns": null,
            "flex": null,
            "_model_name": "LayoutModel",
            "justify_items": null,
            "grid_row": null,
            "max_height": null,
            "align_content": null,
            "visibility": null,
            "align_self": null,
            "height": null,
            "min_height": null,
            "padding": null,
            "grid_auto_rows": null,
            "grid_gap": null,
            "max_width": null,
            "order": null,
            "_view_module_version": "1.2.0",
            "grid_template_areas": null,
            "object_position": null,
            "object_fit": null,
            "grid_auto_columns": null,
            "margin": null,
            "display": null,
            "left": null
          }
        },
        "9cb076e8cdb343ce814fa8903756a9ed": {
          "model_module": "@jupyter-widgets/controls",
          "model_name": "HTMLModel",
          "model_module_version": "1.5.0",
          "state": {
            "_view_name": "HTMLView",
            "style": "IPY_MODEL_9192024a0dde4ff3bf114eaa9197b849",
            "_dom_classes": [],
            "description": "",
            "_model_name": "HTMLModel",
            "placeholder": "​",
            "_view_module": "@jupyter-widgets/controls",
            "_model_module_version": "1.5.0",
            "value": "100%",
            "_view_count": null,
            "_view_module_version": "1.5.0",
            "description_tooltip": null,
            "_model_module": "@jupyter-widgets/controls",
            "layout": "IPY_MODEL_bf3eff892e7049ef946ad952ff41c6f8"
          }
        },
        "76001b432b004a4a889c719077c20b80": {
          "model_module": "@jupyter-widgets/controls",
          "model_name": "FloatProgressModel",
          "model_module_version": "1.5.0",
          "state": {
            "_view_name": "ProgressView",
            "style": "IPY_MODEL_9abd992f9043447bbf48cfece475a287",
            "_dom_classes": [],
            "description": "",
            "_model_name": "FloatProgressModel",
            "bar_style": "success",
            "max": 2,
            "_view_module": "@jupyter-widgets/controls",
            "_model_module_version": "1.5.0",
            "value": 2,
            "_view_count": null,
            "_view_module_version": "1.5.0",
            "orientation": "horizontal",
            "min": 0,
            "description_tooltip": null,
            "_model_module": "@jupyter-widgets/controls",
            "layout": "IPY_MODEL_c8755a49f9f84beaaf8d421e91bea054"
          }
        },
        "669d7ef5610a4ab1abb36058c7606a5d": {
          "model_module": "@jupyter-widgets/controls",
          "model_name": "HTMLModel",
          "model_module_version": "1.5.0",
          "state": {
            "_view_name": "HTMLView",
            "style": "IPY_MODEL_5476d20c0d9446a4a89c3fd1ea2c4c36",
            "_dom_classes": [],
            "description": "",
            "_model_name": "HTMLModel",
            "placeholder": "​",
            "_view_module": "@jupyter-widgets/controls",
            "_model_module_version": "1.5.0",
            "value": " 2/2 [00:00&lt;00:00,  2.67ba/s]",
            "_view_count": null,
            "_view_module_version": "1.5.0",
            "description_tooltip": null,
            "_model_module": "@jupyter-widgets/controls",
            "layout": "IPY_MODEL_e9afe43aaa26417aac8ece9875d570c4"
          }
        },
        "9192024a0dde4ff3bf114eaa9197b849": {
          "model_module": "@jupyter-widgets/controls",
          "model_name": "DescriptionStyleModel",
          "model_module_version": "1.5.0",
          "state": {
            "_view_name": "StyleView",
            "_model_name": "DescriptionStyleModel",
            "description_width": "",
            "_view_module": "@jupyter-widgets/base",
            "_model_module_version": "1.5.0",
            "_view_count": null,
            "_view_module_version": "1.2.0",
            "_model_module": "@jupyter-widgets/controls"
          }
        },
        "bf3eff892e7049ef946ad952ff41c6f8": {
          "model_module": "@jupyter-widgets/base",
          "model_name": "LayoutModel",
          "model_module_version": "1.2.0",
          "state": {
            "_view_name": "LayoutView",
            "grid_template_rows": null,
            "right": null,
            "justify_content": null,
            "_view_module": "@jupyter-widgets/base",
            "overflow": null,
            "_model_module_version": "1.2.0",
            "_view_count": null,
            "flex_flow": null,
            "width": null,
            "min_width": null,
            "border": null,
            "align_items": null,
            "bottom": null,
            "_model_module": "@jupyter-widgets/base",
            "top": null,
            "grid_column": null,
            "overflow_y": null,
            "overflow_x": null,
            "grid_auto_flow": null,
            "grid_area": null,
            "grid_template_columns": null,
            "flex": null,
            "_model_name": "LayoutModel",
            "justify_items": null,
            "grid_row": null,
            "max_height": null,
            "align_content": null,
            "visibility": null,
            "align_self": null,
            "height": null,
            "min_height": null,
            "padding": null,
            "grid_auto_rows": null,
            "grid_gap": null,
            "max_width": null,
            "order": null,
            "_view_module_version": "1.2.0",
            "grid_template_areas": null,
            "object_position": null,
            "object_fit": null,
            "grid_auto_columns": null,
            "margin": null,
            "display": null,
            "left": null
          }
        },
        "9abd992f9043447bbf48cfece475a287": {
          "model_module": "@jupyter-widgets/controls",
          "model_name": "ProgressStyleModel",
          "model_module_version": "1.5.0",
          "state": {
            "_view_name": "StyleView",
            "_model_name": "ProgressStyleModel",
            "description_width": "",
            "_view_module": "@jupyter-widgets/base",
            "_model_module_version": "1.5.0",
            "_view_count": null,
            "_view_module_version": "1.2.0",
            "bar_color": null,
            "_model_module": "@jupyter-widgets/controls"
          }
        },
        "c8755a49f9f84beaaf8d421e91bea054": {
          "model_module": "@jupyter-widgets/base",
          "model_name": "LayoutModel",
          "model_module_version": "1.2.0",
          "state": {
            "_view_name": "LayoutView",
            "grid_template_rows": null,
            "right": null,
            "justify_content": null,
            "_view_module": "@jupyter-widgets/base",
            "overflow": null,
            "_model_module_version": "1.2.0",
            "_view_count": null,
            "flex_flow": null,
            "width": null,
            "min_width": null,
            "border": null,
            "align_items": null,
            "bottom": null,
            "_model_module": "@jupyter-widgets/base",
            "top": null,
            "grid_column": null,
            "overflow_y": null,
            "overflow_x": null,
            "grid_auto_flow": null,
            "grid_area": null,
            "grid_template_columns": null,
            "flex": null,
            "_model_name": "LayoutModel",
            "justify_items": null,
            "grid_row": null,
            "max_height": null,
            "align_content": null,
            "visibility": null,
            "align_self": null,
            "height": null,
            "min_height": null,
            "padding": null,
            "grid_auto_rows": null,
            "grid_gap": null,
            "max_width": null,
            "order": null,
            "_view_module_version": "1.2.0",
            "grid_template_areas": null,
            "object_position": null,
            "object_fit": null,
            "grid_auto_columns": null,
            "margin": null,
            "display": null,
            "left": null
          }
        },
        "5476d20c0d9446a4a89c3fd1ea2c4c36": {
          "model_module": "@jupyter-widgets/controls",
          "model_name": "DescriptionStyleModel",
          "model_module_version": "1.5.0",
          "state": {
            "_view_name": "StyleView",
            "_model_name": "DescriptionStyleModel",
            "description_width": "",
            "_view_module": "@jupyter-widgets/base",
            "_model_module_version": "1.5.0",
            "_view_count": null,
            "_view_module_version": "1.2.0",
            "_model_module": "@jupyter-widgets/controls"
          }
        },
        "e9afe43aaa26417aac8ece9875d570c4": {
          "model_module": "@jupyter-widgets/base",
          "model_name": "LayoutModel",
          "model_module_version": "1.2.0",
          "state": {
            "_view_name": "LayoutView",
            "grid_template_rows": null,
            "right": null,
            "justify_content": null,
            "_view_module": "@jupyter-widgets/base",
            "overflow": null,
            "_model_module_version": "1.2.0",
            "_view_count": null,
            "flex_flow": null,
            "width": null,
            "min_width": null,
            "border": null,
            "align_items": null,
            "bottom": null,
            "_model_module": "@jupyter-widgets/base",
            "top": null,
            "grid_column": null,
            "overflow_y": null,
            "overflow_x": null,
            "grid_auto_flow": null,
            "grid_area": null,
            "grid_template_columns": null,
            "flex": null,
            "_model_name": "LayoutModel",
            "justify_items": null,
            "grid_row": null,
            "max_height": null,
            "align_content": null,
            "visibility": null,
            "align_self": null,
            "height": null,
            "min_height": null,
            "padding": null,
            "grid_auto_rows": null,
            "grid_gap": null,
            "max_width": null,
            "order": null,
            "_view_module_version": "1.2.0",
            "grid_template_areas": null,
            "object_position": null,
            "object_fit": null,
            "grid_auto_columns": null,
            "margin": null,
            "display": null,
            "left": null
          }
        }
      }
    }
  },
  "cells": [
    {
      "cell_type": "code",
      "metadata": {
        "execution": {
          "iopub.status.busy": "2021-09-29T08:56:53.223644Z",
          "iopub.execute_input": "2021-09-29T08:56:53.224201Z",
          "iopub.status.idle": "2021-09-29T08:57:00.101672Z",
          "shell.execute_reply.started": "2021-09-29T08:56:53.224163Z",
          "shell.execute_reply": "2021-09-29T08:57:00.100739Z"
        },
        "trusted": true,
        "id": "SqADZ2Sgx5Ua"
      },
      "source": [
        "! pip install datasets transformers sacrebleu torch sentencepiece transformers[sentencepiece]"
      ],
      "execution_count": null,
      "outputs": []
    },
    {
      "cell_type": "code",
      "metadata": {
        "execution": {
          "iopub.status.busy": "2021-09-29T08:57:00.286261Z",
          "iopub.execute_input": "2021-09-29T08:57:00.286818Z",
          "iopub.status.idle": "2021-09-29T08:57:00.290815Z",
          "shell.execute_reply.started": "2021-09-29T08:57:00.286782Z",
          "shell.execute_reply": "2021-09-29T08:57:00.289918Z"
        },
        "trusted": true,
        "id": "MX7DsEmOx5Ud"
      },
      "source": [
        "model_checkpoint = \"Helsinki-NLP/opus-mt-th-en\""
      ],
      "execution_count": null,
      "outputs": []
    },
    {
      "cell_type": "code",
      "source": [
        "from google.colab import drive\n",
        "drive.mount('/content/drive')"
      ],
      "metadata": {
        "colab": {
          "base_uri": "https://localhost:8080/"
        },
        "id": "ix-WX-gduKqJ",
        "outputId": "fb174260-51e2-43a2-9444-83d147d00736"
      },
      "execution_count": null,
      "outputs": [
        {
          "output_type": "stream",
          "name": "stdout",
          "text": [
            "Drive already mounted at /content/drive; to attempt to forcibly remount, call drive.mount(\"/content/drive\", force_remount=True).\n"
          ]
        }
      ]
    },
    {
      "cell_type": "code",
      "source": [
        "from datasets import load_dataset, load_metric, DatasetDict, Dataset\n",
        "from sklearn.model_selection import train_test_split\n",
        "import numpy as np\n",
        "import pandas as pd"
      ],
      "metadata": {
        "id": "TXi2owZhujnV"
      },
      "execution_count": null,
      "outputs": []
    },
    {
      "cell_type": "code",
      "source": [
        "def pre_process_from_csv(path):\n",
        "    df_ = pd.read_csv(path)\n",
        "    n_row = len(df_)\n",
        "    list_ = df_.to_dict('records')[:n_row]\n",
        "    list_sub = ['LST_Corpus']*len(list_)\n",
        "    dict_ = pd.DataFrame({\"translation\": list_, \"subdataset\": list_sub})\n",
        "    return dict_\n"
      ],
      "metadata": {
        "id": "2Ix7tiLEktWE"
      },
      "execution_count": null,
      "outputs": []
    },
    {
      "cell_type": "code",
      "source": [
        "from transformers import AutoTokenizer\n",
        "tokenizer = AutoTokenizer.from_pretrained(model_checkpoint)"
      ],
      "metadata": {
        "id": "3kAnzdPt5-8A"
      },
      "execution_count": null,
      "outputs": []
    },
    {
      "cell_type": "code",
      "metadata": {
        "execution": {
          "iopub.status.busy": "2021-09-29T08:57:00.292918Z",
          "iopub.execute_input": "2021-09-29T08:57:00.293349Z",
          "iopub.status.idle": "2021-09-29T08:57:05.139984Z",
          "shell.execute_reply.started": "2021-09-29T08:57:00.293314Z",
          "shell.execute_reply": "2021-09-29T08:57:05.139187Z"
        },
        "trusted": true,
        "id": "biPo8vFTx5Ue"
      },
      "source": [
        "metric = load_metric(\"sacrebleu\")"
      ],
      "execution_count": null,
      "outputs": []
    },
    {
      "cell_type": "code",
      "source": [
        "dict_lst = pre_process_from_csv('/content/drive/MyDrive/SuperAI/Week5_MT/df_train.csv')\n",
        "dict_valid = pre_process_from_csv('/content/drive/MyDrive/SuperAI/Week5_MT/df_valid.csv')"
      ],
      "metadata": {
        "id": "kg9ABqLrn6ms"
      },
      "execution_count": null,
      "outputs": []
    },
    {
      "cell_type": "code",
      "source": [
        "fraud_th_idx = list()\n",
        "fraud_en_idx = list()\n",
        "fraud_list = list()\n",
        "for idx, r in dict_lst.iterrows():\n",
        "    try:\n",
        "        if '\"' in r['translation']['th']:\n",
        "            fraud_th_idx.append(idx)\n",
        "        if '\"' in r['translation']['en']:\n",
        "            fraud_en_idx.append(idx)\n",
        "    except:\n",
        "        fraud_list.append(idx)"
      ],
      "metadata": {
        "id": "PdSiwyZwPDAz"
      },
      "execution_count": null,
      "outputs": []
    },
    {
      "cell_type": "code",
      "source": [
        "fraud_list"
      ],
      "metadata": {
        "colab": {
          "base_uri": "https://localhost:8080/"
        },
        "id": "TZfqaQ9ocp2T",
        "outputId": "73ad1738-2531-4a27-819d-2ce0310b9765"
      },
      "execution_count": null,
      "outputs": [
        {
          "output_type": "execute_result",
          "data": {
            "text/plain": [
              "[]"
            ]
          },
          "metadata": {},
          "execution_count": 10
        }
      ]
    },
    {
      "cell_type": "code",
      "source": [
        "dict_lst.drop(index=fraud_list, inplace=True)"
      ],
      "metadata": {
        "id": "bXwgB0nqcV6U"
      },
      "execution_count": null,
      "outputs": []
    },
    {
      "cell_type": "code",
      "source": [
        "dict_lst"
      ],
      "metadata": {
        "colab": {
          "base_uri": "https://localhost:8080/",
          "height": 424
        },
        "id": "w1Tlmzizc691",
        "outputId": "d186d4ef-fe60-4866-ab71-8a63f4359759"
      },
      "execution_count": null,
      "outputs": [
        {
          "output_type": "execute_result",
          "data": {
            "text/html": [
              "\n",
              "  <div id=\"df-8a9b3819-7f96-447d-b57e-346bf8f953f6\">\n",
              "    <div class=\"colab-df-container\">\n",
              "      <div>\n",
              "<style scoped>\n",
              "    .dataframe tbody tr th:only-of-type {\n",
              "        vertical-align: middle;\n",
              "    }\n",
              "\n",
              "    .dataframe tbody tr th {\n",
              "        vertical-align: top;\n",
              "    }\n",
              "\n",
              "    .dataframe thead th {\n",
              "        text-align: right;\n",
              "    }\n",
              "</style>\n",
              "<table border=\"1\" class=\"dataframe\">\n",
              "  <thead>\n",
              "    <tr style=\"text-align: right;\">\n",
              "      <th></th>\n",
              "      <th>translation</th>\n",
              "      <th>subdataset</th>\n",
              "    </tr>\n",
              "  </thead>\n",
              "  <tbody>\n",
              "    <tr>\n",
              "      <th>0</th>\n",
              "      <td>{'th': 'โอ้  คุณ รู้  เมื่อ ฉัน ตื่น ฉัน จะ ออ...</td>\n",
              "      <td>LST_Corpus</td>\n",
              "    </tr>\n",
              "    <tr>\n",
              "      <th>1</th>\n",
              "      <td>{'th': 'ในที่สุด ฉัน ก็มี โอกาส ได้ พบ เชอร์ เ...</td>\n",
              "      <td>LST_Corpus</td>\n",
              "    </tr>\n",
              "    <tr>\n",
              "      <th>2</th>\n",
              "      <td>{'th': 'การ กิน สินบน โดย ผู้ พิพากษา นั้น อาจ...</td>\n",
              "      <td>LST_Corpus</td>\n",
              "    </tr>\n",
              "    <tr>\n",
              "      <th>3</th>\n",
              "      <td>{'th': 'ดูเหมือนว่า ฉัน ลืม นำ ไข่ปลา คาร์ เ ว...</td>\n",
              "      <td>LST_Corpus</td>\n",
              "    </tr>\n",
              "    <tr>\n",
              "      <th>4</th>\n",
              "      <td>{'th': 'แบบ อักษร ที่ จะใช้ สำหรับ หัว และ ท้า...</td>\n",
              "      <td>LST_Corpus</td>\n",
              "    </tr>\n",
              "    <tr>\n",
              "      <th>...</th>\n",
              "      <td>...</td>\n",
              "      <td>...</td>\n",
              "    </tr>\n",
              "    <tr>\n",
              "      <th>103420</th>\n",
              "      <td>{'th': 'ฉัน เสียใจ กล่อง อาหาร กลาง วัน พิเศษ ...</td>\n",
              "      <td>LST_Corpus</td>\n",
              "    </tr>\n",
              "    <tr>\n",
              "      <th>103421</th>\n",
              "      <td>{'th': 'เธอ ไม่ ได้ รับ การ ยอมรับ ให้ อยู่ ใน...</td>\n",
              "      <td>LST_Corpus</td>\n",
              "    </tr>\n",
              "    <tr>\n",
              "      <th>103422</th>\n",
              "      <td>{'th': 'ถนนหนทาง ใน กรุงเทพมหานคร แน่น แ ด้วย ...</td>\n",
              "      <td>LST_Corpus</td>\n",
              "    </tr>\n",
              "    <tr>\n",
              "      <th>103423</th>\n",
              "      <td>{'th': 'ข้อ บกพร่อง ของ วิธี นี้ ก็ คือ การ ขา...</td>\n",
              "      <td>LST_Corpus</td>\n",
              "    </tr>\n",
              "    <tr>\n",
              "      <th>103424</th>\n",
              "      <td>{'th': 'ตอน วิจัย พูด โทรศัพท์ กับ ดิฉัน เสียง...</td>\n",
              "      <td>LST_Corpus</td>\n",
              "    </tr>\n",
              "  </tbody>\n",
              "</table>\n",
              "<p>103425 rows × 2 columns</p>\n",
              "</div>\n",
              "      <button class=\"colab-df-convert\" onclick=\"convertToInteractive('df-8a9b3819-7f96-447d-b57e-346bf8f953f6')\"\n",
              "              title=\"Convert this dataframe to an interactive table.\"\n",
              "              style=\"display:none;\">\n",
              "        \n",
              "  <svg xmlns=\"http://www.w3.org/2000/svg\" height=\"24px\"viewBox=\"0 0 24 24\"\n",
              "       width=\"24px\">\n",
              "    <path d=\"M0 0h24v24H0V0z\" fill=\"none\"/>\n",
              "    <path d=\"M18.56 5.44l.94 2.06.94-2.06 2.06-.94-2.06-.94-.94-2.06-.94 2.06-2.06.94zm-11 1L8.5 8.5l.94-2.06 2.06-.94-2.06-.94L8.5 2.5l-.94 2.06-2.06.94zm10 10l.94 2.06.94-2.06 2.06-.94-2.06-.94-.94-2.06-.94 2.06-2.06.94z\"/><path d=\"M17.41 7.96l-1.37-1.37c-.4-.4-.92-.59-1.43-.59-.52 0-1.04.2-1.43.59L10.3 9.45l-7.72 7.72c-.78.78-.78 2.05 0 2.83L4 21.41c.39.39.9.59 1.41.59.51 0 1.02-.2 1.41-.59l7.78-7.78 2.81-2.81c.8-.78.8-2.07 0-2.86zM5.41 20L4 18.59l7.72-7.72 1.47 1.35L5.41 20z\"/>\n",
              "  </svg>\n",
              "      </button>\n",
              "      \n",
              "  <style>\n",
              "    .colab-df-container {\n",
              "      display:flex;\n",
              "      flex-wrap:wrap;\n",
              "      gap: 12px;\n",
              "    }\n",
              "\n",
              "    .colab-df-convert {\n",
              "      background-color: #E8F0FE;\n",
              "      border: none;\n",
              "      border-radius: 50%;\n",
              "      cursor: pointer;\n",
              "      display: none;\n",
              "      fill: #1967D2;\n",
              "      height: 32px;\n",
              "      padding: 0 0 0 0;\n",
              "      width: 32px;\n",
              "    }\n",
              "\n",
              "    .colab-df-convert:hover {\n",
              "      background-color: #E2EBFA;\n",
              "      box-shadow: 0px 1px 2px rgba(60, 64, 67, 0.3), 0px 1px 3px 1px rgba(60, 64, 67, 0.15);\n",
              "      fill: #174EA6;\n",
              "    }\n",
              "\n",
              "    [theme=dark] .colab-df-convert {\n",
              "      background-color: #3B4455;\n",
              "      fill: #D2E3FC;\n",
              "    }\n",
              "\n",
              "    [theme=dark] .colab-df-convert:hover {\n",
              "      background-color: #434B5C;\n",
              "      box-shadow: 0px 1px 3px 1px rgba(0, 0, 0, 0.15);\n",
              "      filter: drop-shadow(0px 1px 2px rgba(0, 0, 0, 0.3));\n",
              "      fill: #FFFFFF;\n",
              "    }\n",
              "  </style>\n",
              "\n",
              "      <script>\n",
              "        const buttonEl =\n",
              "          document.querySelector('#df-8a9b3819-7f96-447d-b57e-346bf8f953f6 button.colab-df-convert');\n",
              "        buttonEl.style.display =\n",
              "          google.colab.kernel.accessAllowed ? 'block' : 'none';\n",
              "\n",
              "        async function convertToInteractive(key) {\n",
              "          const element = document.querySelector('#df-8a9b3819-7f96-447d-b57e-346bf8f953f6');\n",
              "          const dataTable =\n",
              "            await google.colab.kernel.invokeFunction('convertToInteractive',\n",
              "                                                     [key], {});\n",
              "          if (!dataTable) return;\n",
              "\n",
              "          const docLinkHtml = 'Like what you see? Visit the ' +\n",
              "            '<a target=\"_blank\" href=https://colab.research.google.com/notebooks/data_table.ipynb>data table notebook</a>'\n",
              "            + ' to learn more about interactive tables.';\n",
              "          element.innerHTML = '';\n",
              "          dataTable['output_type'] = 'display_data';\n",
              "          await google.colab.output.renderOutput(dataTable, element);\n",
              "          const docLink = document.createElement('div');\n",
              "          docLink.innerHTML = docLinkHtml;\n",
              "          element.appendChild(docLink);\n",
              "        }\n",
              "      </script>\n",
              "    </div>\n",
              "  </div>\n",
              "  "
            ],
            "text/plain": [
              "                                              translation  subdataset\n",
              "0       {'th': 'โอ้  คุณ รู้  เมื่อ ฉัน ตื่น ฉัน จะ ออ...  LST_Corpus\n",
              "1       {'th': 'ในที่สุด ฉัน ก็มี โอกาส ได้ พบ เชอร์ เ...  LST_Corpus\n",
              "2       {'th': 'การ กิน สินบน โดย ผู้ พิพากษา นั้น อาจ...  LST_Corpus\n",
              "3       {'th': 'ดูเหมือนว่า ฉัน ลืม นำ ไข่ปลา คาร์ เ ว...  LST_Corpus\n",
              "4       {'th': 'แบบ อักษร ที่ จะใช้ สำหรับ หัว และ ท้า...  LST_Corpus\n",
              "...                                                   ...         ...\n",
              "103420  {'th': 'ฉัน เสียใจ กล่อง อาหาร กลาง วัน พิเศษ ...  LST_Corpus\n",
              "103421  {'th': 'เธอ ไม่ ได้ รับ การ ยอมรับ ให้ อยู่ ใน...  LST_Corpus\n",
              "103422  {'th': 'ถนนหนทาง ใน กรุงเทพมหานคร แน่น แ ด้วย ...  LST_Corpus\n",
              "103423  {'th': 'ข้อ บกพร่อง ของ วิธี นี้ ก็ คือ การ ขา...  LST_Corpus\n",
              "103424  {'th': 'ตอน วิจัย พูด โทรศัพท์ กับ ดิฉัน เสียง...  LST_Corpus\n",
              "\n",
              "[103425 rows x 2 columns]"
            ]
          },
          "metadata": {},
          "execution_count": 12
        }
      ]
    },
    {
      "cell_type": "code",
      "source": [
        "datasets = DatasetDict()\n",
        "\n",
        "tds = Dataset.from_pandas(dict_lst)\n",
        "vds = Dataset.from_pandas(dict_valid)\n",
        "\n",
        "datasets['train'] = tds\n",
        "datasets['validation'] = vds"
      ],
      "metadata": {
        "id": "W5baaLkHrOim"
      },
      "execution_count": null,
      "outputs": []
    },
    {
      "cell_type": "code",
      "source": [
        "datasets"
      ],
      "metadata": {
        "colab": {
          "base_uri": "https://localhost:8080/"
        },
        "id": "jpRl4a7ar8Cx",
        "outputId": "643adb5a-d57d-4f0d-cb10-d951e2069a13"
      },
      "execution_count": null,
      "outputs": [
        {
          "output_type": "execute_result",
          "data": {
            "text/plain": [
              "DatasetDict({\n",
              "    train: Dataset({\n",
              "        features: ['translation', 'subdataset', '__index_level_0__'],\n",
              "        num_rows: 103425\n",
              "    })\n",
              "    validation: Dataset({\n",
              "        features: ['translation', 'subdataset'],\n",
              "        num_rows: 1018\n",
              "    })\n",
              "})"
            ]
          },
          "metadata": {},
          "execution_count": 14
        }
      ]
    },
    {
      "cell_type": "code",
      "source": [
        "max_input_len  = 128\n",
        "max_target_len = 128\n",
        "\n",
        "prefix= ''\n",
        "source_lang = 'th'\n",
        "target_lang = 'en'\n",
        "\n",
        "def preprocess_function(examples):\n",
        "    inputs = [prefix + ex[source_lang] for ex in examples['translation']]\n",
        "    targets= [ex[target_lang] for ex in examples['translation']]\n",
        "    model_inputs = tokenizer(inputs, max_length=max_input_len, truncation=True) # Pad to longest word (128 char)\n",
        "\n",
        "    with tokenizer.as_target_tokenizer():\n",
        "        labels = tokenizer(targets, max_length=max_target_len, truncation=True)\n",
        "\n",
        "    model_inputs['labels'] = labels['input_ids']\n",
        "    return model_inputs"
      ],
      "metadata": {
        "id": "fQ7KMYUNsxRv"
      },
      "execution_count": null,
      "outputs": []
    },
    {
      "cell_type": "code",
      "source": [
        "tokenized_datasets = datasets.map(preprocess_function, batched=True)"
      ],
      "metadata": {
        "colab": {
          "base_uri": "https://localhost:8080/",
          "height": 81,
          "referenced_widgets": [
            "faa44cca31b94c8c897ea0a88d34b072",
            "7b3c78bcf620417eaacffa08c28bba01",
            "102741e134f640b4b3703409dadd901d",
            "888b760e2a044df98ed02d2c7208ad61",
            "607c343f30bf4c4dbe2d22e45ae0cfee",
            "b4172a8ff94d45fda1ecf52b6314c580",
            "48a6ab3dbd194722abc20be3bc4b2210",
            "fcad1eb5df5b4063875a5298c7325cc9",
            "13ac9a0b6c454d17a28b4781b9368aaf",
            "8497ecac44c248f5b8cce3fb89b8b665",
            "22715045e1de4f1cadf729dc0c8d2718",
            "ed05d6b07f594a43b117d6ad7f57bcad",
            "74571ab8949e4479a321794b2c8d67ae",
            "9cb076e8cdb343ce814fa8903756a9ed",
            "76001b432b004a4a889c719077c20b80",
            "669d7ef5610a4ab1abb36058c7606a5d",
            "9192024a0dde4ff3bf114eaa9197b849",
            "bf3eff892e7049ef946ad952ff41c6f8",
            "9abd992f9043447bbf48cfece475a287",
            "c8755a49f9f84beaaf8d421e91bea054",
            "5476d20c0d9446a4a89c3fd1ea2c4c36",
            "e9afe43aaa26417aac8ece9875d570c4"
          ]
        },
        "id": "FOcwSR-5so_h",
        "outputId": "4886ec8f-62fb-4266-bb79-c039431bd584"
      },
      "execution_count": null,
      "outputs": [
        {
          "output_type": "display_data",
          "data": {
            "application/vnd.jupyter.widget-view+json": {
              "model_id": "faa44cca31b94c8c897ea0a88d34b072",
              "version_minor": 0,
              "version_major": 2
            },
            "text/plain": [
              "  0%|          | 0/104 [00:00<?, ?ba/s]"
            ]
          },
          "metadata": {}
        },
        {
          "output_type": "display_data",
          "data": {
            "application/vnd.jupyter.widget-view+json": {
              "model_id": "ed05d6b07f594a43b117d6ad7f57bcad",
              "version_minor": 0,
              "version_major": 2
            },
            "text/plain": [
              "  0%|          | 0/2 [00:00<?, ?ba/s]"
            ]
          },
          "metadata": {}
        }
      ]
    },
    {
      "cell_type": "code",
      "source": [
        "tokenized_datasets"
      ],
      "metadata": {
        "colab": {
          "base_uri": "https://localhost:8080/"
        },
        "id": "7v5MlEGs7q7J",
        "outputId": "9423d27f-7462-4554-ded4-3101fdc0e510"
      },
      "execution_count": null,
      "outputs": [
        {
          "output_type": "execute_result",
          "data": {
            "text/plain": [
              "DatasetDict({\n",
              "    train: Dataset({\n",
              "        features: ['translation', 'subdataset', '__index_level_0__', 'input_ids', 'attention_mask', 'labels'],\n",
              "        num_rows: 103425\n",
              "    })\n",
              "    validation: Dataset({\n",
              "        features: ['translation', 'subdataset', 'input_ids', 'attention_mask', 'labels'],\n",
              "        num_rows: 1018\n",
              "    })\n",
              "})"
            ]
          },
          "metadata": {},
          "execution_count": 17
        }
      ]
    },
    {
      "cell_type": "code",
      "source": [
        "from transformers import AutoModelForSeq2SeqLM, DataCollatorForSeq2Seq, Seq2SeqTrainingArguments, Seq2SeqTrainer\n",
        "model = AutoModelForSeq2SeqLM.from_pretrained(model_checkpoint)"
      ],
      "metadata": {
        "id": "GdXCoZSPocXC"
      },
      "execution_count": null,
      "outputs": []
    },
    {
      "cell_type": "code",
      "source": [
        "batch_size = 64\n",
        "model_name = model_checkpoint.split(\"/\")[-1]\n",
        "source_lang = 'TH'\n",
        "target_lang = 'EN'\n",
        "\n",
        "args = Seq2SeqTrainingArguments(\n",
        "    f\"{model_name}-finetuned-{source_lang}-to-{target_lang}\",\n",
        "    evaluation_strategy = \"epoch\",\n",
        "    learning_rate=2e-5,\n",
        "    per_device_train_batch_size=batch_size,\n",
        "    per_device_eval_batch_size=batch_size,\n",
        "    weight_decay=0.01,\n",
        "    save_total_limit=3, # Only last 5 models are saved. Older ones are deleted.\n",
        "    num_train_epochs=10,\n",
        "    predict_with_generate=True    \n",
        ")"
      ],
      "metadata": {
        "id": "vdLSR_6Jo2Jg"
      },
      "execution_count": null,
      "outputs": []
    },
    {
      "cell_type": "code",
      "source": [
        "data_collator = DataCollatorForSeq2Seq(tokenizer, model=model)"
      ],
      "metadata": {
        "id": "LY86TaK_pBMz"
      },
      "execution_count": null,
      "outputs": []
    },
    {
      "cell_type": "markdown",
      "source": [
        "# Model Training"
      ],
      "metadata": {
        "id": "_McCleTStPYs"
      }
    },
    {
      "cell_type": "code",
      "source": [
        "def postprocess_text(preds, labels):\n",
        "    preds = [pred.strip() for pred in preds]\n",
        "    labels = [[label.strip()] for label in labels]\n",
        "    return preds, labels\n"
      ],
      "metadata": {
        "id": "00TOY3XLpFWb"
      },
      "execution_count": null,
      "outputs": []
    },
    {
      "cell_type": "code",
      "source": [
        "def compute_metrics(eval_preds):\n",
        "    preds, labels = eval_preds\n",
        "    if isinstance(preds, tuple):\n",
        "        preds = preds[0]\n",
        "    decoded_preds = tokenizer.batch_decode(preds, skip_special_tokens=True)\n",
        "    # Replace -100 in the labels as we can't decode them.\n",
        "    labels = np.where(labels != -100, labels, tokenizer.pad_token_id)\n",
        "    decoded_labels = tokenizer.batch_decode(labels, skip_special_tokens=True)\n",
        "    # Some simple post-processing\n",
        "    decoded_preds, decoded_labels = postprocess_text(decoded_preds, decoded_labels)\n",
        "    result = metric.compute(predictions=decoded_preds, references=decoded_labels)\n",
        "    result = {\"bleu\": result[\"score\"]}\n",
        "    prediction_lens = [np.count_nonzero(pred != tokenizer.pad_token_id) for pred in preds]\n",
        "    result[\"gen_len\"] = np.mean(prediction_lens)\n",
        "    result = {k: round(v, 4) for k, v in result.items()}\n",
        "    return result"
      ],
      "metadata": {
        "id": "PGBwVeyEtajC"
      },
      "execution_count": null,
      "outputs": []
    },
    {
      "cell_type": "code",
      "source": [
        "trainer = Seq2SeqTrainer(\n",
        "    model,\n",
        "    args,\n",
        "    train_dataset = tokenized_datasets['train'],\n",
        "    eval_dataset= tokenized_datasets[\"validation\"],\n",
        "    data_collator=data_collator,\n",
        "    tokenizer=tokenizer,\n",
        "    compute_metrics=compute_metrics,\n",
        ")"
      ],
      "metadata": {
        "id": "w4S1X-52pIKD"
      },
      "execution_count": null,
      "outputs": []
    },
    {
      "cell_type": "code",
      "source": [
        "%time\n",
        "trainer.train()"
      ],
      "metadata": {
        "id": "5VUzGOv7plQ0"
      },
      "execution_count": null,
      "outputs": []
    },
    {
      "cell_type": "markdown",
      "source": [
        "# Inference"
      ],
      "metadata": {
        "id": "UXy6iOi4tRhe"
      }
    },
    {
      "cell_type": "code",
      "source": [
        "import os\n",
        "for dirname, _, filenames in os.walk('opus-mt-th-en-finetuned-TH-to-EN'):\n",
        "    for filename in filenames:\n",
        "        print(os.path.join(dirname, filename))"
      ],
      "metadata": {
        "id": "bx_KIrE3tVXm"
      },
      "execution_count": null,
      "outputs": []
    },
    {
      "cell_type": "code",
      "source": [
        "fake_preds_list = list()\n",
        "fake_labels_list = list()\n",
        "\n",
        "for idx in range(len(datasets['test'])):\n",
        "\n",
        "    src_text = ''.join([word.strip() for word in datasets['test'][idx]['translation']['th'].strip()])\n",
        "    ground_truth_en = datasets['test'][idx]['translation']['en']\n",
        "    translated = model.generate(**tokenizer(src_text, return_tensors=\"pt\", padding=True).to('cuda'))\n",
        "    pred_val = ''.join([tokenizer.decode(t, skip_special_tokens=True) for t in translated])\n",
        "\n",
        "    fake_labels_list.append(ground_truth_en)\n",
        "    fake_preds_list.append([tokenizer.decode(t, skip_special_tokens=True) for t in translated])\n",
        "\n",
        "    print(f'Truth TH: \\t{src_text}')\n",
        "    print(f'Truth EN: \\t{ground_truth_en}')\n",
        "    print(f'Pred EN: \\t{pred_val}')\n",
        "    print('\\n')\n",
        "    "
      ],
      "metadata": {
        "id": "CDQ8nWMDzmwY"
      },
      "execution_count": null,
      "outputs": []
    },
    {
      "cell_type": "code",
      "source": [
        "!pip install sacrebleu"
      ],
      "metadata": {
        "id": "j0tXBEQnoX9_"
      },
      "execution_count": null,
      "outputs": []
    },
    {
      "cell_type": "code",
      "source": [
        "fake_preds = [\"hello ther\", \"genera kenobi\"]\n",
        "fake_labels = [[\"hello there\"], [\"general kenobi\"]]\n",
        "metric.compute(predictions=fake_preds, references=fake_labels)"
      ],
      "metadata": {
        "id": "PkwJRK5eaoUc"
      },
      "execution_count": null,
      "outputs": []
    },
    {
      "cell_type": "code",
      "source": [
        "!pip install sacrebleu\n",
        "def cal_bleu(predict, ground_truth):\n",
        "  \"\"\"\n",
        "  this function calculate bleu score between prediction and ground truth\n",
        "  predict <List> : list of prediction string [\"str1\",\"str2\",\"str3\", ...]\n",
        "  ground_truth <List> : list of groundtruth string [\"gt1\",\"gt2\",\"gt3\", ...]\n",
        "  \"\"\"\n",
        "  from sacrebleu.metrics import BLEU\n",
        "  bleu = BLEU()\n",
        "  res = score = bleu.corpus_score(ground_truth, [predict])\n",
        "  return res\n",
        "\n",
        "refs = ['The dog bit the man.', 'It was not unexpected.', 'The man bit him first.',]\n",
        "sys = ['The dog bit the man.', \"It wasn't surprising.\", 'The man had just bitten him.']\n",
        "\n",
        "cal_bleu(sys, refs)"
      ],
      "metadata": {
        "id": "IjTI6DRhnySg"
      },
      "execution_count": null,
      "outputs": []
    }
  ]
}